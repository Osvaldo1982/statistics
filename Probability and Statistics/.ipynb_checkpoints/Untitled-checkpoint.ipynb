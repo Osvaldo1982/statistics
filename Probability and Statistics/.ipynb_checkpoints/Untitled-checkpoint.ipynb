{
 "cells": [
  {
   "cell_type": "code",
   "execution_count": 20,
   "metadata": {
    "ExecuteTime": {
     "end_time": "2021-06-04T01:14:37.992688Z",
     "start_time": "2021-06-04T01:14:37.718191Z"
    }
   },
   "outputs": [],
   "source": [
    "import numpy as np\n",
    "import pandas as pd\n",
    "from sklearn.preprocessing import PolynomialFeatures\n",
    "from sklearn.linear_model import LinearRegression"
   ]
  },
  {
   "cell_type": "code",
   "execution_count": 8,
   "metadata": {
    "ExecuteTime": {
     "end_time": "2021-06-04T01:10:48.446231Z",
     "start_time": "2021-06-04T01:10:48.438290Z"
    }
   },
   "outputs": [],
   "source": [
    "def f(X):\n",
    "    return np.power(X, 3)*0.6 - np.power(X, 2) - X + 2\n",
    "\n",
    "def f_ruido(X):\n",
    "    '''\n",
    "    input\n",
    "    - X: amostra da variável explicativa X (numpy array)\n",
    "    output\n",
    "    - amostra associada a Y com o ruído (float)\n",
    "    '''\n",
    "    return f(X) + np.random.normal(0, 0.1, size = X.shape[0])\n",
    "    \n",
    "def sample(n):\n",
    "    '''\n",
    "    input\n",
    "    - n: tamanho da amostra (inteiro)\n",
    "    output\n",
    "    - retorna uma amostra da distribuição conjunta (X,Y) (numpy array, numpy array)\n",
    "    '''\n",
    "    X = np.random.uniform(-2, 2, size=n)\n",
    "    Y = f_ruido(X)\n",
    "    return X.reshape(-1, 1), Y.reshape(-1, 1)"
   ]
  },
  {
   "cell_type": "code",
   "execution_count": 26,
   "metadata": {
    "ExecuteTime": {
     "end_time": "2021-06-04T01:16:09.757260Z",
     "start_time": "2021-06-04T01:16:09.729216Z"
    }
   },
   "outputs": [],
   "source": [
    "def varios_cortes_train_test(X, Y, quantidade_cortes = 5, grau_maximo = 7):\n",
    "    \"\"\"\n",
    "    nilvo\n",
    "    \"\"\"\n",
    "    dic = {'quebra': [], 'grau': [], 'MAE': [], 'MSE': [], 'R2': []}\n",
    "    for quebra in range(1, quantidade_cortes + 1):\n",
    "        for grau in range(0, grau_maximo + 1):\n",
    "            pf = PolynomialFeatures(degree = grau)\n",
    "            X_ = pf.fit_transform(X)\n",
    "            \n",
    "            X_train, X_test, y_train, y_test = train_test_split(X_, Y, shuffle = True, test_size = 0.2, random_state = quebra)\n",
    "            lr = LinearRegression()\n",
    "            lr.fit(X_train, y_train)\n",
    "            \n",
    "            dic['quebra'].append(quebra)\n",
    "            dic['grau'].append(grau)\n",
    "            dic['MAE'].append(mean_absolute_error(y_test,lr.predict(X_test)))\n",
    "            dic['MSE'].append(mean_squared_error(y_test,lr.predict(X_test)))\n",
    "            dic['R2'].append(r2_score(y_test,lr.predict(X_test)))\n",
    "    \n",
    "    df = pd.DataFrame(dic)\n",
    "    plot_metricas_por_grau(df, quantidade_cortes)\n",
    "    \n",
    "def plot_metricas_por_grau(df, quantidade_cortes, metrica_list = ['MSE','MAE','R2']):\n",
    "    \"\"\"\n",
    "    wtf\n",
    "    \"\"\"\n",
    "    plt.figure(figsize=(16, 4))\n",
    "    for j, metrica in zip(range(1, len(metrica_list) + 1), metrica_list):\n",
    "        plt.subplot(1, len(metrica_list), j)\n",
    "        for i, c in zip(range(1, quantidade_cortes + 1), cycle('bgrcmyk')):\n",
    "            plt.plot(df['grau'][df['quebra'] == i], df[metrica][df['quebra'] == i], color = c)\n",
    "        plt.ylabel(metrica)\n",
    "        plt.xlabel('grau do polinômio')\n",
    "    plt.savefig('imagem3.jpg', bbox_inches = 'tight')\n",
    "    plt.show()\n",
    "    \n",
    "def varios_cortes_cross_validate(X, Y, quantidade_cortes = 10, grau_maximo = 7):\n",
    "    \"\"\"\n",
    "    nilvo\n",
    "    \"\"\"\n",
    "    dic = {'quebra': [], 'grau': [], 'MAE': [], 'MSE': [], 'R2': []}\n",
    "    for quebra in range(1, quantidade_cortes + 1):\n",
    "        kfold = KFold(n_splits = 5, shuffle = True, random_state = quebra)\n",
    "        for grau in range(0, grau_maximo + 1):\n",
    "            pf = PolynomialFeatures(degree = grau)\n",
    "            X_ = pf.fit_transform(X)\n",
    "            \n",
    "            aux = pd.DataFrame(cross_validate(lr, X_, Y, scoring = ['r2', 'neg_mean_squared_error', 'neg_mean_absolute_error'], cv = kfold, return_train_score = False))\n",
    "            dic['quebra'].append(quebra)\n",
    "            dic['grau'].append(grau)\n",
    "            dic['MAE'].append(-aux.mean()['test_neg_mean_absolute_error'])\n",
    "            dic['MSE'].append(-aux.mean()['test_neg_mean_squared_error'])\n",
    "            dic['R2'].append(aux.mean()['test_r2'])\n",
    "    \n",
    "    df = pd.DataFrame(dic)\n",
    "    plot_metricas_por_grau(df, quantidade_cortes)"
   ]
  },
  {
   "cell_type": "code",
   "execution_count": 10,
   "metadata": {
    "ExecuteTime": {
     "end_time": "2021-06-04T01:10:55.026060Z",
     "start_time": "2021-06-04T01:10:55.016125Z"
    }
   },
   "outputs": [],
   "source": [
    "X,Y = sample(20)"
   ]
  },
  {
   "cell_type": "code",
   "execution_count": 19,
   "metadata": {
    "ExecuteTime": {
     "end_time": "2021-06-04T01:13:44.025081Z",
     "start_time": "2021-06-04T01:13:43.978403Z"
    }
   },
   "outputs": [
    {
     "data": {
      "text/plain": [
       "LinearRegression(fit_intercept=False)"
      ]
     },
     "execution_count": 19,
     "metadata": {},
     "output_type": "execute_result"
    }
   ],
   "source": [
    "pf = PolynomialFeatures(degree = 9, include_bias= True)\n",
    "lr = LinearRegression(fit_intercept=False)\n",
    "lr.fit(pf.fit_transform(X),Y)"
   ]
  },
  {
   "cell_type": "code",
   "execution_count": null,
   "metadata": {},
   "outputs": [],
   "source": []
  }
 ],
 "metadata": {
  "kernelspec": {
   "display_name": "Python 3",
   "language": "python",
   "name": "python3"
  },
  "language_info": {
   "codemirror_mode": {
    "name": "ipython",
    "version": 3
   },
   "file_extension": ".py",
   "mimetype": "text/x-python",
   "name": "python",
   "nbconvert_exporter": "python",
   "pygments_lexer": "ipython3",
   "version": "3.8.3"
  },
  "latex_envs": {
   "LaTeX_envs_menu_present": true,
   "autoclose": false,
   "autocomplete": true,
   "bibliofile": "biblio.bib",
   "cite_by": "apalike",
   "current_citInitial": 1,
   "eqLabelWithNumbers": true,
   "eqNumInitial": 1,
   "hotkeys": {
    "equation": "Ctrl-E",
    "itemize": "Ctrl-I"
   },
   "labels_anchors": false,
   "latex_user_defs": false,
   "report_style_numbering": false,
   "user_envs_cfg": false
  },
  "toc": {
   "base_numbering": 1,
   "nav_menu": {},
   "number_sections": true,
   "sideBar": true,
   "skip_h1_title": false,
   "title_cell": "Table of Contents",
   "title_sidebar": "Contents",
   "toc_cell": false,
   "toc_position": {},
   "toc_section_display": true,
   "toc_window_display": false
  },
  "varInspector": {
   "cols": {
    "lenName": 16,
    "lenType": 16,
    "lenVar": 40
   },
   "kernels_config": {
    "python": {
     "delete_cmd_postfix": "",
     "delete_cmd_prefix": "del ",
     "library": "var_list.py",
     "varRefreshCmd": "print(var_dic_list())"
    },
    "r": {
     "delete_cmd_postfix": ") ",
     "delete_cmd_prefix": "rm(",
     "library": "var_list.r",
     "varRefreshCmd": "cat(var_dic_list()) "
    }
   },
   "types_to_exclude": [
    "module",
    "function",
    "builtin_function_or_method",
    "instance",
    "_Feature"
   ],
   "window_display": false
  }
 },
 "nbformat": 4,
 "nbformat_minor": 4
}
